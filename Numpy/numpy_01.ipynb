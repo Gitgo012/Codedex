{
 "cells": [
  {
   "cell_type": "markdown",
   "id": "70fec4bc",
   "metadata": {},
   "source": [
    "### NumPy (short for \"Numerical Python\") is a Python library that supports large, multi-dimensional arrays. It also comes with a bunch of math functions that you can use to operate on these arrays.\n",
    "\n",
    "It works well with other data science libraries such as Pandas (data analysis), Matplotlib (data visualization), and scikit-learn (machine learning), which makes NumPy the obvious first stop in the journey.\n",
    "\n",
    "### Notebook Documents\n",
    " Before we get started, note that we will use something called a notebook to write and execute our code in this course.\n",
    "\n",
    " A notebook is a file that contains a set of cells. Each cell can store and run code. Any output will be printed out right below the cell.\n",
    "\n",
    " There are many flavors of this, Jupyter Notebook and Google Colab are the two popular ones used by academic and industry data analysts.\n"
   ]
  },
  {
   "cell_type": "code",
   "execution_count": 1,
   "id": "0c563ca7",
   "metadata": {},
   "outputs": [],
   "source": [
    "import numpy as np"
   ]
  },
  {
   "cell_type": "code",
   "execution_count": 2,
   "id": "8b25dc31",
   "metadata": {},
   "outputs": [
    {
     "name": "stdout",
     "output_type": "stream",
     "text": [
      "So it's not gonna be easy. It's gonna be really hard.\n"
     ]
    }
   ],
   "source": [
    "print('So it\\'s not gonna be easy. It\\'s gonna be really hard.')"
   ]
  },
  {
   "cell_type": "code",
   "execution_count": 3,
   "id": "bf857f1c",
   "metadata": {},
   "outputs": [
    {
     "name": "stdout",
     "output_type": "stream",
     "text": [
      "So it's not gonna be easy. It's gonna be really hard.\n",
      "We're gonna have to work at this everyday, but I want to do that because I want all the data, forever. You and me.\n"
     ]
    }
   ],
   "source": [
    "print('So it\\'s not gonna be easy. It\\'s gonna be really hard.')\n",
    "print('We\\'re gonna have to work at this everyday, but I want to do that because I want all the data, forever. You and me.')"
   ]
  }
 ],
 "metadata": {
  "kernelspec": {
   "display_name": "Python 3",
   "language": "python",
   "name": "python3"
  },
  "language_info": {
   "codemirror_mode": {
    "name": "ipython",
    "version": 3
   },
   "file_extension": ".py",
   "mimetype": "text/x-python",
   "name": "python",
   "nbconvert_exporter": "python",
   "pygments_lexer": "ipython3",
   "version": "3.10.0"
  }
 },
 "nbformat": 4,
 "nbformat_minor": 5
}
