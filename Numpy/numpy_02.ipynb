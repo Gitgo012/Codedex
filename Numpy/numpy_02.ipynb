{
 "cells": [
  {
   "cell_type": "code",
   "execution_count": 1,
   "id": "9c5b4dc1",
   "metadata": {},
   "outputs": [],
   "source": [
    "import numpy as np"
   ]
  },
  {
   "cell_type": "code",
   "execution_count": 3,
   "id": "204dfb50",
   "metadata": {},
   "outputs": [
    {
     "name": "stdout",
     "output_type": "stream",
     "text": [
      "2.1.3\n"
     ]
    }
   ],
   "source": [
    "print(np.__version__)"
   ]
  },
  {
   "cell_type": "code",
   "execution_count": 4,
   "id": "8305f89e",
   "metadata": {},
   "outputs": [
    {
     "name": "stdout",
     "output_type": "stream",
     "text": [
      "[1500 1500 1500 1500 1750 1750]\n"
     ]
    }
   ],
   "source": [
    "rent = np.array([1500, 1500, 1500, 1500, 1750, 1750])\n",
    "print(rent)"
   ]
  },
  {
   "cell_type": "markdown",
   "id": "a76424fe",
   "metadata": {},
   "source": [
    "# Python List vs. NumPy Array\n",
    "Wait, but why do we need NumPy arrays? NumPy arrays are faster and more efficient than Python lists. When dealing with a huge dataset with millions of data, NumPy arrays can be 100x faster than traditional Python lists.\n",
    "\n",
    "So when you have a handful of items, lists are great. But when dealing with thousands or even millions of numbers, NumPy arrays are the way to go!"
   ]
  },
  {
   "cell_type": "code",
   "execution_count": 5,
   "id": "d2bccd06",
   "metadata": {},
   "outputs": [
    {
     "name": "stdout",
     "output_type": "stream",
     "text": [
      "Notifications over the past week: [245, 198, 220, 275, 310, 190, 260]\n"
     ]
    }
   ],
   "source": [
    "# Dummy data: notifications received in the past 7 days\n",
    "notifications = [245, 198, 220, 275, 310, 190, 260]\n",
    "\n",
    "print(\"Notifications over the past week:\", notifications)"
   ]
  },
  {
   "cell_type": "markdown",
   "id": "f40746cd",
   "metadata": {},
   "source": [
    "### Indexing in numpy arrays"
   ]
  },
  {
   "cell_type": "code",
   "execution_count": 6,
   "id": "50c9def0",
   "metadata": {},
   "outputs": [
    {
     "name": "stdout",
     "output_type": "stream",
     "text": [
      "Element at index 0 is 245\n",
      "Element at index 1 is 198\n",
      "Element at index 2 is 220\n",
      "Element at index 3 is 275\n",
      "Element at index 4 is 310\n",
      "Element at index 5 is 190\n",
      "Element at index 6 is 260\n"
     ]
    }
   ],
   "source": [
    "for i in range(len(notifications)):\n",
    "    print(F\"Element at index {i} is {notifications[i]}\")"
   ]
  },
  {
   "cell_type": "markdown",
   "id": "37eebd30",
   "metadata": {},
   "source": [
    "### Slicing in nnumpy arrays\n",
    "It starts from the start index (inclusive) and ends before the end index (non-inclusive)."
   ]
  },
  {
   "cell_type": "code",
   "execution_count": 7,
   "id": "b4db8833",
   "metadata": {},
   "outputs": [
    {
     "name": "stdout",
     "output_type": "stream",
     "text": [
      "[3 2]\n",
      "[1 0 1]\n",
      "[0 1]\n"
     ]
    }
   ],
   "source": [
    "coffee = np.array([3, 2, 1, 0, 1])\n",
    "\n",
    "print(coffee[0:2])    # Output: [3 2]\n",
    "print(coffee[2:])     # Output: [1 0 1]\n",
    "print(coffee[-2:])    # Output: [0 1]"
   ]
  },
  {
   "cell_type": "markdown",
   "id": "b3a4320b",
   "metadata": {},
   "source": [
    "Every metro city's population is constantly changing. Google your favorite city's population in the recent years and create an array for them.\n",
    "\n",
    "Here are the NYC population from 2023 (top) to 2013 (bottom):\n",
    "\n",
    "19571216\n",
    "19673200\n",
    "19854526\n",
    "20104710\n",
    "19463131\n",
    "19544098\n",
    "19593849\n",
    "19636391\n",
    "19657321\n",
    "19653431\n",
    "19626488\n",
    "Print the first item and the last item. What did you get?\n",
    "\n",
    "Now find the difference between them using subtraction. How did the population change in the last ten years?\n",
    "\n",
    "COVID-19 happened during 2020-2022; those were some crazy years. Use slicing, and print the population during those years for your city."
   ]
  },
  {
   "cell_type": "code",
   "execution_count": 11,
   "id": "c608988a",
   "metadata": {},
   "outputs": [
    {
     "name": "stdout",
     "output_type": "stream",
     "text": [
      "First item 19571216\n",
      "Last item 19626488\n",
      "[ 101984  181326  250184 -641579   80967   49751   42542   20930   -3890\n",
      "  -26943]\n"
     ]
    }
   ],
   "source": [
    "population = np.array([\n",
    "    19571216,\n",
    "    19673200,\n",
    "    19854526,\n",
    "    20104710,\n",
    "    19463131,\n",
    "    19544098,\n",
    "    19593849,\n",
    "    19636391,\n",
    "    19657321,\n",
    "    19653431,\n",
    "    19626488   \n",
    "])\n",
    "difference_in_population=np.diff(population)\n",
    "print(\"First item\",population[0])\n",
    "print(\"Last item\",population[-1])\n",
    "\n",
    "print(difference_in_population)"
   ]
  },
  {
   "cell_type": "markdown",
   "id": "72c3124f",
   "metadata": {},
   "source": [
    "### 2D arrays"
   ]
  },
  {
   "cell_type": "code",
   "execution_count": 23,
   "id": "3906c755",
   "metadata": {},
   "outputs": [
    {
     "name": "stdout",
     "output_type": "stream",
     "text": [
      "[1 2 3]\n",
      "[4 5 6]\n",
      "[7 8 9]\n",
      "1\n",
      "3\n",
      "9\n"
     ]
    }
   ],
   "source": [
    "arr = np.array([\n",
    "  [1, 2, 3], \n",
    "  [4, 5, 6],\n",
    "  [7, 8, 9]\n",
    "]) \n",
    "print(arr[0])     # Output: [1, 2, 3]\n",
    "print(arr[1])     # Output: [4, 5, 6]\n",
    "print(arr[2])     # Output: [7, 8, 9]\n",
    "\n",
    "print(arr[0][0])  # Output: 1\n",
    "print(arr[0][2])  # Output: 3\n",
    "print(arr[2][2])  # Output: 9"
   ]
  },
  {
   "cell_type": "code",
   "execution_count": 21,
   "id": "a3d82336",
   "metadata": {},
   "outputs": [
    {
     "name": "stdout",
     "output_type": "stream",
     "text": [
      "Most fresh egg carton: egg carton  1\n",
      "Least fresh egg carton: egg carton  2\n"
     ]
    }
   ],
   "source": [
    "egg_carton1 = np.array([\n",
    "  [0.89, 0.90, 0.83, 0.89, 0.97, 0.98], \n",
    "  [0.95, 0.95, 0.89, 0.95, 0.23, 0.99]\n",
    "])\n",
    "\n",
    "egg_carton2 = np.array([\n",
    "  [0.89, 0.95, 0.84, 0.92, 0.94, 0.93], \n",
    "  [0.93, 0.95, 0.02, 0.03, 0.23, 0.99]\n",
    "])\n",
    "\n",
    "egg_carton3 = np.array([\n",
    "  [0.83, 0.95, 0.89, 0.54, 0.37, 0.92], \n",
    "  [0.98, 0.99, 0.19, 0.23, 0.89, 0.91]\n",
    "])\n",
    "\n",
    "avg_1=np.average(egg_carton1)\n",
    "avg_2=np.average(egg_carton2)\n",
    "avg_3=np.average(egg_carton3)\n",
    "averages=np.array([avg_1,avg_2,avg_3])\n",
    "max=np.argmax(averages)+1\n",
    "min=np.argmin(averages)+1\n",
    "print(\"Most fresh egg carton: egg carton \",max)\n",
    "print(\"Least fresh egg carton: egg carton \",min)"
   ]
  },
  {
   "cell_type": "markdown",
   "id": "a0162049",
   "metadata": {},
   "source": [
    "### Hip Hip Array!\n",
    "Hooray! You've made it to the end of the chapter! 🎈\n",
    "\n",
    "Here’s a recap:\n",
    "\n",
    "NumPy arrays are used to store large amounts of numbers.\n",
    "An index is an element’s position in an array. NumPy arrays are 0-indexed.\n",
    "Slicing is where we can access parts of a sequence with name[start:end].\n",
    "2D arrays have 1D arrays as elements.\n",
    "And we can do all of this in a notebook!"
   ]
  },
  {
   "cell_type": "code",
   "execution_count": 24,
   "id": "194387f5",
   "metadata": {},
   "outputs": [
    {
     "name": "stdout",
     "output_type": "stream",
     "text": [
      "Sleep hours this week: [7.5 6.  8.  7.  6.5 9.  8.5]\n",
      "Yawns taken this week: [3 5 2 6 4 1 3]\n",
      "Mood during wake hours today: [7 6 6 8 7 7 8 6 5 6 7 8 8 7]\n",
      "Water glasses chugges this week: [ 8 10  7  9  6 11  8]\n"
     ]
    }
   ],
   "source": [
    "import numpy as np\n",
    "\n",
    "sleep_hours = np.array([7.5, 6.0, 8.0, 7.0, 6.5, 9.0, 8.5])\n",
    "water_glasses = np.array([8, 10, 7, 9, 6, 11, 8])\n",
    "mood_today = np.array([7, 6, 6, 8, 7, 7, 8, 6, 5, 6, 7, 8, 8, 7])\n",
    "yawns_week = np.array([3, 5, 2, 6, 4, 1, 3])\n",
    "print(\"Sleep hours this week:\", sleep_hours)\n",
    "print(\"Yawns taken this week:\", yawns_week)\n",
    "print(\"Mood during wake hours today:\", mood_today)\n",
    "print(\"Water glasses chugges this week:\", water_glasses)"
   ]
  },
  {
   "cell_type": "code",
   "execution_count": 27,
   "id": "fc77726d",
   "metadata": {},
   "outputs": [
    {
     "name": "stdout",
     "output_type": "stream",
     "text": [
      "Mood ratings: [7 6 6 8 7 7 8 6 5 6 7 8 8 7]\n",
      "Average mood today: 6.857142857142857\n",
      "Mood difference (end - start): 0\n",
      "Morning avg mood: 6.8\n",
      "Evening avg mood: 7.2\n"
     ]
    }
   ],
   "source": [
    "# Average mood during waking hours\n",
    "avg_mood = np.mean(mood_today)\n",
    "\n",
    "# Difference between beginning and end of the day\n",
    "mood_difference = mood_today[-1] - mood_today[0]\n",
    "\n",
    "# Slice morning (first 5 hours) and evening (last 5 hours)\n",
    "morning_avg = np.mean(mood_today[:5])\n",
    "evening_avg = np.mean(mood_today[-5:])\n",
    "\n",
    "print(\"Mood ratings:\", mood_today)\n",
    "print(\"Average mood today:\", avg_mood)\n",
    "print(\"Mood difference (end - start):\", mood_difference)\n",
    "print(\"Morning avg mood:\", morning_avg)\n",
    "print(\"Evening avg mood:\", evening_avg)"
   ]
  },
  {
   "cell_type": "code",
   "execution_count": null,
   "id": "60addec1",
   "metadata": {},
   "outputs": [
    {
     "name": "stdout",
     "output_type": "stream",
     "text": [
      "Building heights in metres [828.1416 678.7896 631.8504 601.0656 599.2368 554.4312 541.3248]\n"
     ]
    }
   ],
   "source": [
    "tallest_buildings = np.array([2717, 2227, 2073, 1972, 1966, 1819, 1776])\n",
    "print(\"Building heights in metres\",tallest_buildings * 0.3048)"
   ]
  },
  {
   "cell_type": "markdown",
   "id": "4f9d33b7",
   "metadata": {},
   "source": [
    "### Basic operations on numpy arrays"
   ]
  },
  {
   "cell_type": "code",
   "execution_count": 30,
   "id": "cc49e321",
   "metadata": {},
   "outputs": [
    {
     "name": "stdout",
     "output_type": "stream",
     "text": [
      "Addition: [13.99 10.49  5.24 14.99]\n",
      "Subtraction: [10.99  7.99  2.99 10.99]\n",
      "Multiplication (20% off): [10.392  7.992  3.992 10.392]\n",
      "Division: [6.495 4.995 2.495 6.495]\n",
      "Modulo: [2.99 4.99 4.99 2.99]\n"
     ]
    }
   ],
   "source": [
    "import numpy as np\n",
    "\n",
    "order = np.array([12.99, 9.99, 4.99, 12.99])\n",
    "tip   = np.array([1.00, 0.50, 0.25, 2.00])\n",
    "\n",
    "# + Addition (add tip to each order)\n",
    "print(\"Addition:\", order + tip)\n",
    "\n",
    "# - Subtraction (apply a flat $2 discount)\n",
    "print(\"Subtraction:\", order - 2)\n",
    "\n",
    "# * Multiplication (apply 20% discount = keep 80%)\n",
    "print(\"Multiplication (20% off):\", order * 0.8)\n",
    "\n",
    "# / Division (split bill among 2 people)\n",
    "print(\"Division:\", order / 2)\n",
    "\n",
    "# % Modulo (find remainder when dividing by 5)\n",
    "print(\"Modulo:\", order % 5)\n"
   ]
  },
  {
   "cell_type": "code",
   "execution_count": 31,
   "id": "d170fe2e",
   "metadata": {},
   "outputs": [
    {
     "name": "stdout",
     "output_type": "stream",
     "text": [
      "38\n",
      "59\n",
      "776\n",
      "48.5\n"
     ]
    }
   ],
   "source": [
    "temperatures = np.array([[50, 51, 54, 59, 59, 53, 54, 51],\n",
    "                         [45, 50, 38, 44, 40, 46, 43, 39]])\n",
    "\n",
    "print(np.min(temperatures))       # Output: 38\n",
    "print(np.max(temperatures))       # Output: 59\n",
    "print(np.sum(temperatures))       # Output: 776\n",
    "print(np.average(temperatures))   # Output: 48.5"
   ]
  },
  {
   "cell_type": "code",
   "execution_count": 32,
   "id": "1beb4c54",
   "metadata": {},
   "outputs": [
    {
     "data": {
      "text/plain": [
       "array([50, 38])"
      ]
     },
     "execution_count": 32,
     "metadata": {},
     "output_type": "execute_result"
    }
   ],
   "source": [
    "temperatures = np.array([[50, 51, 54, 59, 59, 53, 54, 51],\n",
    "                         [45, 50, 38, 44, 40, 46, 43, 39]])\n",
    "\n",
    "np.sum(temperatures, axis=0)   # Sum of each column\n",
    "np.min(temperatures, axis=1)   # Min of each row"
   ]
  },
  {
   "cell_type": "code",
   "execution_count": 35,
   "id": "8aedd5ca",
   "metadata": {},
   "outputs": [
    {
     "name": "stdout",
     "output_type": "stream",
     "text": [
      "Steps taken each day this week: [ 8450 10230  7650 12015  9320 11050  9875]\n",
      "Max steps taken on day- 3 are- 12015\n",
      "Min steps taken on day- 2 are- 7650\n",
      "Sum of all the steps taken in the week are- 68590\n",
      "Average of all the steps taken in the week are- 9798.57142857143\n"
     ]
    }
   ],
   "source": [
    "steps = np.array([8450, 10230, 7650, 12015, 9320, 11050, 9875])\n",
    "print(\"Steps taken each day this week:\", steps)\n",
    "print(f\"Max steps taken on day- {np.argmax(steps)} are- {np.max(steps)}\")\n",
    "print(f\"Min steps taken on day- {np.argmin(steps)} are- {np.min(steps)}\")\n",
    "print(f\"Sum of all the steps taken in the week are- {np.sum(steps)}\")\n",
    "print(f\"Average of all the steps taken in the week are- {np.average(steps)}\")"
   ]
  },
  {
   "cell_type": "markdown",
   "id": "3cf8ab99",
   "metadata": {},
   "source": [
    "### .shape\n",
    "NumPy arrays have a property called .shape that returns a tuple containing number of elements each dimension has."
   ]
  },
  {
   "cell_type": "code",
   "execution_count": 36,
   "id": "e768cbab",
   "metadata": {},
   "outputs": [
    {
     "name": "stdout",
     "output_type": "stream",
     "text": [
      "(2, 4)\n"
     ]
    }
   ],
   "source": [
    "arr = np.array([[1, 2, 3, 4], [5, 6, 7, 8]]) \n",
    "\n",
    "print(arr.shape)     # Output: (2, 4)"
   ]
  },
  {
   "cell_type": "markdown",
   "id": "b0dc85e2",
   "metadata": {},
   "source": [
    "When we print arr.shape, we get (2, 4) because there are two dimensions:\n",
    "\n",
    "The 1st dimension has 2 elements (for the rows).\n",
    "The 2nd dimension has 4 elements (for the columns)."
   ]
  },
  {
   "cell_type": "code",
   "execution_count": 37,
   "id": "ac6373b9",
   "metadata": {},
   "outputs": [
    {
     "name": "stdout",
     "output_type": "stream",
     "text": [
      "(4, 3)\n"
     ]
    }
   ],
   "source": [
    "arr = np.array([[1, 2, 3], [4, 5, 6], [7, 8, 9], [10, 11, 12]]) \n",
    "\n",
    "print(arr.shape)     # Output: (4, 3)"
   ]
  },
  {
   "cell_type": "markdown",
   "id": "cc6ec643",
   "metadata": {},
   "source": [
    "### .reshape()\n",
    "If we want to change the shape of an array, we use the .reshape() function.\n",
    "\n",
    "Suppose we want to convert the following 1D array into a 2D one:"
   ]
  },
  {
   "cell_type": "code",
   "execution_count": 41,
   "id": "ff35ace7",
   "metadata": {},
   "outputs": [
    {
     "name": "stdout",
     "output_type": "stream",
     "text": [
      "[[1 2 3 4]\n",
      " [5 6 7 8]]\n"
     ]
    }
   ],
   "source": [
    "arr = np.array([1, 2, 3, 4, 5, 6, 7, 8]) \n",
    "new_arr = arr.reshape(2, 4)\n",
    "\n",
    "print(new_arr)\n",
    "\n",
    "# Output:\n",
    "# [[1 2 3 4]\n",
    "# [5 6 7 8]]"
   ]
  },
  {
   "cell_type": "markdown",
   "id": "9f06f2b2",
   "metadata": {},
   "source": [
    "Without typing any code, what is the shape of this array? Confirm by using the .shape property.\n",
    "\n",
    "Suppose we want to split this monthly data into weekly data. Use .reshape() so that each row is made of 7 items (for each week of the month)."
   ]
  },
  {
   "cell_type": "code",
   "execution_count": 45,
   "id": "a11792f7",
   "metadata": {},
   "outputs": [
    {
     "name": "stdout",
     "output_type": "stream",
     "text": [
      "(28,)\n",
      "[[ 56 100  33   0  45  45  46]\n",
      " [ 34  89 180  60  45  45  44]\n",
      " [ 46  45   0   0  15  90 301]\n",
      " [197  20  60  45  45  42  45]]\n"
     ]
    }
   ],
   "source": [
    "month_results = np.array([56, 100, 33, 0, 45, 45, 46, 34, 89, 180, 60, 45, 45, 44, 46, 45, 0, 0, 15, 90, 301, 197, 20, 60, 45, 45, 42, 45])\n",
    "print(month_results.shape)\n",
    "print(month_results.reshape(4,7))"
   ]
  },
  {
   "cell_type": "markdown",
   "id": "80799ef1",
   "metadata": {},
   "source": [
    "### .arange()\n",
    "In Python, we have the built-in .range() function that we use in a for loop. Well, NumPy has something that looks similar called the .arange() function.\n",
    "\n",
    "The .arange() function, short for “array range”, is a function that creates an array with evenly spaced values.\n",
    "\n",
    "For example:"
   ]
  },
  {
   "cell_type": "code",
   "execution_count": null,
   "id": "5ee86825",
   "metadata": {},
   "outputs": [
    {
     "name": "stdout",
     "output_type": "stream",
     "text": [
      "[0 1 2 3 4]\n"
     ]
    }
   ],
   "source": [
    "arr = np.arange(5)\n",
    "\n",
    "print(arr)    # Output: [0 1 2 3 4]"
   ]
  },
  {
   "cell_type": "markdown",
   "id": "fdea0bd4",
   "metadata": {},
   "source": [
    "Got it ✅ Here’s the info in **pure bullet-point Markdown**:\n",
    "\n",
    "* **start** → the first value in the array (default = 0)\n",
    "* **stop** → the end of the range (not included in the array)\n",
    "* **step** → the step size of the intervals (default = 1)\n"
   ]
  },
  {
   "cell_type": "code",
   "execution_count": 47,
   "id": "e04c3735",
   "metadata": {},
   "outputs": [
    {
     "name": "stdout",
     "output_type": "stream",
     "text": [
      "[1 4 7]\n"
     ]
    }
   ],
   "source": [
    "arr = np.arange(start=1, stop=10, step=3)\n",
    "\n",
    "print(arr)   # Output: [1 4 7]"
   ]
  },
  {
   "cell_type": "markdown",
   "id": "f43ec1aa",
   "metadata": {},
   "source": [
    "Halley's Comet is a comet visible from Earth every 75 years. It is the only known \"short-period comet\" that is consistently visible to the naked eye from Earth. It was last seen in 1986 and the next one will happen in 2061. 💫\n",
    "\n",
    "Using .arange(), create an array of numbers with the years when Halley's Comet will appear next from year 1986 to 3000."
   ]
  },
  {
   "cell_type": "code",
   "execution_count": 49,
   "id": "6383dc42",
   "metadata": {},
   "outputs": [
    {
     "name": "stdout",
     "output_type": "stream",
     "text": [
      "[1986 2061 2136 2211 2286 2361 2436 2511 2586 2661 2736 2811 2886 2961]\n"
     ]
    }
   ],
   "source": [
    "halleys_comet=np.arange(start=1986, stop=3000, step=75)\n",
    "print(halleys_comet)"
   ]
  },
  {
   "cell_type": "markdown",
   "id": "008520f6",
   "metadata": {},
   "source": [
    "### Congrats!\n",
    "You completed the chapter. 🔥\n",
    "\n",
    "In this chapter, we learned:\n",
    "\n",
    "Math operations with +, -, *, /, and %.\n",
    "Math functions like .min(), .max(), .sum(), .average().\n",
    ".shape shows the number of elements for each dimension and .reshape() updates it.\n",
    ".arange() to create an array with evenly spaced values."
   ]
  },
  {
   "cell_type": "code",
   "execution_count": 50,
   "id": "1f1c2ca1",
   "metadata": {},
   "outputs": [],
   "source": [
    "import sklearn\n",
    "import numpy as np\n",
    "import pandas as pd\n",
    "import matplotlib.pyplot as plt"
   ]
  },
  {
   "cell_type": "code",
   "execution_count": 69,
   "id": "c3ea76aa",
   "metadata": {},
   "outputs": [
    {
     "name": "stdout",
     "output_type": "stream",
     "text": [
      "Dataset shape: (891, 12)\n",
      "Columns: ['PassengerId', 'Survived', 'Pclass', 'Name', 'Sex', 'Age', 'SibSp', 'Parch', 'Ticket', 'Fare', 'Cabin', 'Embarked']\n",
      "Average Age: 35.6744262295082\n",
      "PassengerId of oldest passenger: 631\n",
      "Survival Rate: 67.21311475409836 %\n"
     ]
    }
   ],
   "source": [
    "import pandas as pd\n",
    "import numpy as np\n",
    "\n",
    "# Load dataset\n",
    "df = pd.read_csv(\"Titanic-Dataset.csv\")\n",
    "\n",
    "# Print shape and columns\n",
    "print(\"Dataset shape:\", df.shape)\n",
    "print(\"Columns:\", df.columns.to_list())\n",
    "\n",
    "# Deal with missing values\n",
    "df.dropna(axis=0, inplace=True)\n",
    "\n",
    "# Average age\n",
    "print(\"Average Age:\", np.average(df['Age']))\n",
    "\n",
    "# PassengerId of the oldest passenger\n",
    "oldest_passenger = df.loc[df['Age'] == df['Age'].max(), 'PassengerId'].values[0]\n",
    "print(\"PassengerId of oldest passenger:\", oldest_passenger)\n",
    "\n",
    "# Survival percentage\n",
    "survival_rate = (np.sum(df['Survived']) / df.shape[0]) * 100\n",
    "print(\"Survival Rate:\", survival_rate, \"%\")\n"
   ]
  },
  {
   "cell_type": "code",
   "execution_count": 74,
   "id": "fe541222",
   "metadata": {},
   "outputs": [
    {
     "data": {
      "image/png": "[encoded data removed]",
      "text/plain": [
       "<Figure size 640x480 with 1 Axes>"
      ]
     },
     "metadata": {},
     "output_type": "display_data"
    }
   ],
   "source": [
    "import matplotlib.pyplot as plt\n",
    "\n",
    "# Group by Pclass and Survived\n",
    "survival_counts = df.groupby(['Pclass', 'Survived']).size().unstack()\n",
    "\n",
    "# Plot\n",
    "survival_counts.plot(kind='bar', stacked=True)\n",
    "plt.title(\"Survival Counts by Passenger Class\")\n",
    "plt.xlabel(\"Passenger Class\")\n",
    "plt.ylabel(\"Number of Passengers\")\n",
    "plt.legend([\"Did Not Survive\", \"Survived\"])\n",
    "plt.show()"
   ]
  },
  {
   "cell_type": "code",
   "execution_count": null,
   "id": "c03f8f66",
   "metadata": {},
   "outputs": [],
   "source": []
  }
 ],
 "metadata": {
  "kernelspec": {
   "display_name": "Python 3",
   "language": "python",
   "name": "python3"
  },
  "language_info": {
   "codemirror_mode": {
    "name": "ipython",
    "version": 3
   },
   "file_extension": ".py",
   "mimetype": "text/x-python",
   "name": "python",
   "nbconvert_exporter": "python",
   "pygments_lexer": "ipython3",
   "version": "3.10.0"
  }
 },
 "nbformat": 4,
 "nbformat_minor": 5
}
